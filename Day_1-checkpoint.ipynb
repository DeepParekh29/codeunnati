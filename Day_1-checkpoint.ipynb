{
 "cells": [
  {
   "cell_type": "code",
   "execution_count": 1,
   "id": "78f94f95",
   "metadata": {},
   "outputs": [],
   "source": [
    "import numpy as np"
   ]
  },
  {
   "cell_type": "code",
   "execution_count": 7,
   "id": "195a5099",
   "metadata": {},
   "outputs": [
    {
     "data": {
      "text/plain": [
       "array([[  0., 100.,  78., 342.],\n",
       "       [  1.,  11.,  62., 191.],\n",
       "       [  2.,   8.,  85., 252.],\n",
       "       [  3.,  71.,  24., 307.],\n",
       "       [  4., 104.,  17., 229.],\n",
       "       [  5.,  18., 104., 246.],\n",
       "       [  6.,   8.,  76., 226.],\n",
       "       [  7.,  86.,  74., 288.],\n",
       "       [  8.,  12.,  60., 216.],\n",
       "       [  9.,  25.,  90., 304.],\n",
       "       [ 10.,  56.,   6., 272.],\n",
       "       [ 11.,  88.,  69., 302.],\n",
       "       [ 12., 147.,  65., 312.],\n",
       "       [ 13., 121., 146., 370.],\n",
       
       "       [ 15.,  99., 110., 362.]])"
      ]
     },
     "execution_count": 7,
     "metadata": {},
     "output_type": "execute_result"
    }
   ],
   "source": [
    "data = np.loadtxt(\"cric.tsv\",skiprows = 1)\n",
    "data\n",
    "\n"
   ]
  },
  {
   "cell_type": "code",
   "execution_count": 10,
   "id": "2cf746ff",
   "metadata": {},
   "outputs": [],
   "source": [
    "Sachin = data[:,1]"
   ]
  },
  {
   "cell_type": "code",
   "execution_count": 11,
   "id": "9f3389cf",
   "metadata": {},
   "outputs": [
    {
     "data": {
      "text/plain": [
       "array([100.,  11.,   8.,  71., 104.,  18.,   8.,  86.,  12.,  25.,  56.,\n",
       "        88., 147., 121.,  99.])"
      ]
     },
     "execution_count": 11,
     "metadata": {},
     "output_type": "execute_result"
    }
   ],
   "source": [
    "Sachin"
   ]
  },
  {
   "cell_type": "code",
   "execution_count": 16,
   "id": "b2beba71",
   "metadata": {},
   "outputs": [
    {
     "data": {
      "text/plain": [
       "array([ 78.,  62.,  85.,  24.,  17., 104.,  76.,  74.,  60.,  90.,   6.,\n",
       "        69.,  65., 146., 110.])"
      ]
     },
     "execution_count": 16,
     "metadata": {},
     "output_type": "execute_result"
    }
   ],
   "source": [
    "Dravid = data[:,2]\n",
    "Dravid"
   ]
  },
  {
   "cell_type": "code",
   "execution_count": 15,
   "id": "ae9b2c46",
   "metadata": {},
   "outputs": [
    {
     "data": {
      "text/plain": [
       "array([342., 191., 252., 307., 229., 246., 226., 288., 216., 304., 272.,\n",
       "       302., 312., 370., 362.])"
      ]
     },
     "execution_count": 15,
     "metadata": {},
     "output_type": "execute_result"
    }
   ],
   "source": [
    "India = data[:,3]\n",
    "India"
   ]
  },
  {
   "cell_type": "code",
   "execution_count": 14,
   "id": "0498e552",
   "metadata": {},
   "outputs": [
    {
     "data": {
      "text/plain": [
       "63.6"
      ]
     },
     "execution_count": 14,
     "metadata": {},
     "output_type": "execute_result"
    }
   ],
   "source": [
    "np.mean(Sachin)"
   ]
  },
  {
   "cell_type": "code",
   "execution_count": 17,
   "id": "773c835d",
   "metadata": {},
   "outputs": [
    {
     "data": {
      "text/plain": [
       "288.0"
      ]
     },
     "execution_count": 17,
     "metadata": {},
     "output_type": "execute_result"
    }
   ],
   "source": [
    "np.median(India)"
   ]
  },
  {
   "cell_type": "code",
   "execution_count": null,
   "id": "b11c66f1",
   "metadata": {},
   "outputs": [],
   "source": []
  }
 ],
 "metadata": {
  "kernelspec": {
   "display_name": "Python 3 (ipykernel)",
   "language": "python",
   "name": "python3"
  },
  "language_info": {
   "codemirror_mode": {
    "name": "ipython",
    "version": 3
   },
   "file_extension": ".py",
   "mimetype": "text/x-python",
   "name": "python",
   "nbconvert_exporter": "python",
   "pygments_lexer": "ipython3",
   "version": "3.9.13"
  }
 },
 "nbformat": 4,
 "nbformat_minor": 5
}
